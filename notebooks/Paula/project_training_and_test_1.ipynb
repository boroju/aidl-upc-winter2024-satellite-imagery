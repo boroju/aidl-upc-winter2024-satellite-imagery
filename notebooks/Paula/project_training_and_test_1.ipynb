{
  "nbformat": 4,
  "nbformat_minor": 0,
  "metadata": {
    "colab": {
      "provenance": []
    },
    "kernelspec": {
      "name": "python3",
      "display_name": "Python 3"
    },
    "language_info": {
      "name": "python"
    }
  },
  "cells": [
    {
      "cell_type": "markdown",
      "source": [
        "# Wildfire Prediction Dataset (Satellite Images)\n",
        "\n",
        "## Satellite images of areas that previously experienced wildfires in Canada\n",
        "\n",
        "### https://www.kaggle.com/datasets/abdelghaniaaba/wildfire-prediction-dataset"
      ],
      "metadata": {
        "id": "ppCH4-j3TFIw"
      }
    },
    {
      "cell_type": "markdown",
      "source": [
        "## About Dataset\n",
        "\n",
        "### Source\n",
        "\n",
        "Refer to Canada's website for the original wildfires data:\n",
        "\n",
        "*   Forest Fires - Open Government Portal\n",
        "*   Original license for the data:\n",
        "*   Creative Commons 4.0 Attribution (CC-BY) license – Quebec\n",
        "\n",
        "### Dataset\n",
        "\n",
        "This dataset contains satellite images (350x350px) in 2 classes:\n",
        "\n",
        "*   Wildfire : 22710 images\n",
        "*   No wildfire : 20140 images\n",
        "\n",
        "The data was divided into train, test and validation with these percentages :\n",
        "\n",
        "*   Train : ~70%\n",
        "*   Test : ~15%\n",
        "*   Validation : ~15%\n",
        "\n",
        "\n",
        "### How\n",
        "Using Longitude and Latitude coordinates for each wildfire spot (> 0.01 acres burned) found on the dataset above we extracted satellite images of those areas using MapBox API to create a more convenient format of the dataset for deep learning and building a model that can predict whether an area is at risk of a wildfire or not"
      ],
      "metadata": {
        "id": "5PApjpHHTNRQ"
      }
    },
    {
      "cell_type": "markdown",
      "source": [
        "### For handling files within my Google Drive space"
      ],
      "metadata": {
        "id": "-o62ZlQkWpGT"
      }
    },
    {
      "cell_type": "code",
      "source": [
        "from google.colab import drive\n",
        "\n",
        "# Mount Google Drive\n",
        "drive.mount('/content/drive')\n"
      ],
      "metadata": {
        "colab": {
          "base_uri": "https://localhost:8080/"
        },
        "id": "hX8_4TQDgvBX",
        "outputId": "aec68dc9-d6dc-4dc5-84d0-25e39accb50f"
      },
      "execution_count": null,
      "outputs": [
        {
          "output_type": "stream",
          "name": "stdout",
          "text": [
            "Drive already mounted at /content/drive; to attempt to forcibly remount, call drive.mount(\"/content/drive\", force_remount=True).\n"
          ]
        }
      ]
    },
    {
      "cell_type": "code",
      "source": [
        "import os"
      ],
      "metadata": {
        "id": "fleYL6CSWlpb"
      },
      "execution_count": null,
      "outputs": []
    },
    {
      "cell_type": "code",
      "source": [
        "# Get the current working directory\n",
        "current_dir = os.getcwd()\n",
        "\n",
        "# Print the current working directory\n",
        "current_dir"
      ],
      "metadata": {
        "id": "VEbBuB0KWn1c",
        "colab": {
          "base_uri": "https://localhost:8080/",
          "height": 35
        },
        "outputId": "4942e8e0-0fe2-4bcd-9353-6d0e667253b0"
      },
      "execution_count": null,
      "outputs": [
        {
          "output_type": "execute_result",
          "data": {
            "text/plain": [
              "'/content'"
            ],
            "application/vnd.google.colaboratory.intrinsic+json": {
              "type": "string"
            }
          },
          "metadata": {},
          "execution_count": 3
        }
      ]
    },
    {
      "cell_type": "code",
      "source": [
        "# Get the path to the directory\n",
        "initial_path = '/content/drive/MyDrive/06_ia/09_final_project/07_project'\n",
        "dataset_path = '/dataset'\n",
        "\n",
        "# List the contents of the directory\n",
        "contents = os.listdir(initial_path + dataset_path)\n",
        "\n",
        "# Print the contents of the directory\n",
        "for item in contents:\n",
        "  print(item)"
      ],
      "metadata": {
        "id": "r36cK9JSXFXk",
        "colab": {
          "base_uri": "https://localhost:8080/"
        },
        "outputId": "88147d2e-9cc0-4470-f342-203f052cfcb1"
      },
      "execution_count": null,
      "outputs": [
        {
          "output_type": "stream",
          "name": "stdout",
          "text": [
            "valid\n",
            "train\n",
            "test\n"
          ]
        }
      ]
    },
    {
      "cell_type": "markdown",
      "source": [
        "### Importing libraries"
      ],
      "metadata": {
        "id": "-WM_rXrRV8m1"
      }
    },
    {
      "cell_type": "code",
      "execution_count": null,
      "metadata": {
        "id": "-upcI8JpS6OR"
      },
      "outputs": [],
      "source": [
        "import time\n",
        "import numpy as np\n",
        "\n",
        "import torch\n",
        "import torch.nn as nn\n",
        "from torchvision import transforms\n",
        "from torchvision.datasets import ImageFolder\n",
        "from typing import Tuple, Dict, Any, List\n",
        "\n",
        "import matplotlib\n",
        "%matplotlib inline\n",
        "import matplotlib.pyplot as plt"
      ]
    },
    {
      "cell_type": "markdown",
      "source": [
        "### Working with GPU if possible"
      ],
      "metadata": {
        "id": "pOKUDeaTV_zz"
      }
    },
    {
      "cell_type": "code",
      "source": [
        "seed = 123\n",
        "np.random.seed(seed)\n",
        "_ = torch.manual_seed(seed)\n",
        "_ = torch.cuda.manual_seed(seed)"
      ],
      "metadata": {
        "id": "h7ZK9W4kVyiF"
      },
      "execution_count": null,
      "outputs": []
    },
    {
      "cell_type": "code",
      "source": [
        "# we select to work on GPU if it is available in the machine, otherwise will run on CPU\n",
        "device = torch.device('cuda') if torch.cuda.is_available() else torch.device('cpu')"
      ],
      "metadata": {
        "id": "FXRpsXrYV0bu"
      },
      "execution_count": null,
      "outputs": []
    },
    {
      "cell_type": "markdown",
      "source": [
        "### Defining the Hyper-parameters"
      ],
      "metadata": {
        "id": "_Hp2MyjqV6qX"
      }
    },
    {
      "cell_type": "code",
      "source": [
        "# Let's define some hyper-parameters\n",
        "hparams = {\n",
        "    'batch_size': 64,\n",
        "    'num_epochs': 10,\n",
        "    'test_batch_size': 64,\n",
        "    'learning_rate': 1e-3,\n",
        "    'weight_decay': 1e-5,\n",
        "    'log_interval': 100,\n",
        "}"
      ],
      "metadata": {
        "id": "hTe2URwUV13G"
      },
      "execution_count": null,
      "outputs": []
    },
    {
      "cell_type": "markdown",
      "source": [
        "### Defining Dataset and DataLoader\n"
      ],
      "metadata": {
        "id": "LSukwi0gYwfK"
      }
    },
    {
      "cell_type": "markdown",
      "source": [
        "#### Gathering Data"
      ],
      "metadata": {
        "id": "qlIFJMAYaBfm"
      }
    },
    {
      "cell_type": "code",
      "source": [
        "initial_path"
      ],
      "metadata": {
        "colab": {
          "base_uri": "https://localhost:8080/",
          "height": 35
        },
        "id": "wUsj1PZyaSvA",
        "outputId": "333e29b5-6341-4639-ae53-c443f467823a"
      },
      "execution_count": null,
      "outputs": [
        {
          "output_type": "execute_result",
          "data": {
            "text/plain": [
              "'/content/drive/MyDrive/06_ia/09_final_project/07_project'"
            ],
            "application/vnd.google.colaboratory.intrinsic+json": {
              "type": "string"
            }
          },
          "metadata": {},
          "execution_count": 63
        }
      ]
    },
    {
      "cell_type": "code",
      "source": [
        "dataset_path"
      ],
      "metadata": {
        "colab": {
          "base_uri": "https://localhost:8080/",
          "height": 35
        },
        "id": "iCswsOuMbJlQ",
        "outputId": "f6b676b7-4f53-4a4b-89d9-0f247136f502"
      },
      "execution_count": null,
      "outputs": [
        {
          "output_type": "execute_result",
          "data": {
            "text/plain": [
              "'/dataset'"
            ],
            "application/vnd.google.colaboratory.intrinsic+json": {
              "type": "string"
            }
          },
          "metadata": {},
          "execution_count": 64
        }
      ]
    },
    {
      "cell_type": "code",
      "source": [
        "contents"
      ],
      "metadata": {
        "id": "6tflSV7QbgBu",
        "colab": {
          "base_uri": "https://localhost:8080/"
        },
        "outputId": "d515e42a-89c7-4120-9be4-ee5655cfab0c"
      },
      "execution_count": null,
      "outputs": [
        {
          "output_type": "execute_result",
          "data": {
            "text/plain": [
              "['valid', 'train', 'test']"
            ]
          },
          "metadata": {},
          "execution_count": 66
        }
      ]
    },
    {
      "cell_type": "code",
      "source": [
        "# defining paths of train, validation and test data\n",
        "train_path = initial_path + dataset_path + \"/train\"\n",
        "test_path = initial_path + dataset_path + \"/test\"\n",
        "valid_path = initial_path + dataset_path + \"/valid\"\n",
        "\n",
        "print(\"Training data: \" + train_path)\n",
        "print(\"Test data: \" + test_path)\n",
        "print(\"Validation data: \" + valid_path)"
      ],
      "metadata": {
        "id": "h87Czf-ZYz_m",
        "colab": {
          "base_uri": "https://localhost:8080/"
        },
        "outputId": "fe2f106f-cc38-4188-8240-9a69643164d4"
      },
      "execution_count": null,
      "outputs": [
        {
          "output_type": "stream",
          "name": "stdout",
          "text": [
            "Training data: /content/drive/MyDrive/06_ia/09_final_project/07_project/dataset/train\n",
            "Test data: /content/drive/MyDrive/06_ia/09_final_project/07_project/dataset/test\n",
            "Validation data: /content/drive/MyDrive/06_ia/09_final_project/07_project/dataset/valid\n"
          ]
        }
      ]
    },
    {
      "cell_type": "code",
      "source": [
        "# defining image transformations\n",
        "image_transforms = transforms.Compose([\n",
        "    transforms.Resize((350, 350)),\n",
        "    transforms.ToTensor(),\n",
        "    transforms.Normalize([0.485, 0.456, 0.406], [0.229, 0.224, 0.225])\n",
        "])"
      ],
      "metadata": {
        "id": "iEFL5HPjbumG"
      },
      "execution_count": null,
      "outputs": []
    },
    {
      "cell_type": "code",
      "source": [
        "# loading training data using DataLoader\n",
        "train_data = ImageFolder(train_path, transform=image_transforms)\n",
        "train_loader = torch.utils.data.DataLoader(train_data, batch_size=hparams['batch_size'], shuffle=True)"
      ],
      "metadata": {
        "id": "43C32DM-JXmc"
      },
      "execution_count": null,
      "outputs": []
    },
    {
      "cell_type": "code",
      "source": [
        "# loading test data using DataLoader\n",
        "test_data = ImageFolder(test_path, transform=image_transforms)\n",
        "test_loader = torch.utils.data.DataLoader(test_data, batch_size=hparams['batch_size'], shuffle=False)\n",
        "\n",
        "# loading validation data using DataLoader\n",
        "val_data = ImageFolder(valid_path, transform=image_transforms)\n",
        "val_loader = torch.utils.data.DataLoader(val_data, batch_size=hparams['batch_size'], shuffle=False)"
      ],
      "metadata": {
        "id": "32ZKF6yCcllB"
      },
      "execution_count": null,
      "outputs": []
    },
    {
      "cell_type": "code",
      "source": [
        "# Retrieve a sample from the dataset by simply indexing it\n",
        "img, label = train_data[0]\n",
        "print('Img shape: ', img.shape)\n",
        "print('Label: ', label)"
      ],
      "metadata": {
        "id": "uzQ-waPEjtd5",
        "colab": {
          "base_uri": "https://localhost:8080/"
        },
        "outputId": "ec7111ea-829b-4f79-a95e-63b23b9e156d"
      },
      "execution_count": null,
      "outputs": [
        {
          "output_type": "stream",
          "name": "stdout",
          "text": [
            "Img shape:  torch.Size([3, 350, 350])\n",
            "Label:  0\n"
          ]
        }
      ]
    },
    {
      "cell_type": "code",
      "source": [
        "# Sample a BATCH from the dataloader by running over its iterator\n",
        "iter_ = iter(train_loader)\n",
        "bimg, blabel = next(iter_)\n",
        "print('Batch Img shape: ', bimg.shape)\n",
        "print('Batch Label shape: ', blabel.shape)\n",
        "print('Batch Img shape: ', bimg.shape)\n",
        "print('Batch Label shape: ', blabel.shape)\n",
        "print(f'The Batched tensors return a collection of {bimg.shape[0]} images \\\n",
        "({bimg.shape[1]} channel, {bimg.shape[2]} height pixels, {bimg.shape[3]} width \\\n",
        "pixels)')\n",
        "print(f'In the case of the labels, we obtain {blabel.shape[0]} batched integers, one per image')"
      ],
      "metadata": {
        "id": "gcaiBaFnjy3s",
        "colab": {
          "base_uri": "https://localhost:8080/"
        },
        "outputId": "8bbb1842-a49a-42c2-d183-d72a1b7d5532"
      },
      "execution_count": null,
      "outputs": [
        {
          "output_type": "stream",
          "name": "stdout",
          "text": [
            "Batch Img shape:  torch.Size([64, 3, 350, 350])\n",
            "Batch Label shape:  torch.Size([64])\n",
            "Batch Img shape:  torch.Size([64, 3, 350, 350])\n",
            "Batch Label shape:  torch.Size([64])\n",
            "The Batched tensors return a collection of 64 images (3 channel, 350 height pixels, 350 width pixels)\n",
            "In the case of the labels, we obtain 64 batched integers, one per image\n"
          ]
        }
      ]
    },
    {
      "cell_type": "code",
      "source": [
        "# Get the class idx + names\n",
        "class_names = train_data.class_to_idx\n",
        "class_names"
      ],
      "metadata": {
        "id": "jANNDeavLQWa",
        "colab": {
          "base_uri": "https://localhost:8080/"
        },
        "outputId": "bb121688-7d7f-47fa-e401-3af34cfb2a7f"
      },
      "execution_count": null,
      "outputs": [
        {
          "output_type": "execute_result",
          "data": {
            "text/plain": [
              "{'nowildfire': 0, 'wildfire': 1}"
            ]
          },
          "metadata": {},
          "execution_count": 73
        }
      ]
    },
    {
      "cell_type": "code",
      "source": [
        "print(\"Train:\")\n",
        "print(f\"Found {len(train_data)} images belonging to {train_data.classes} classes.\")\n",
        "print(\"Test:\")\n",
        "print(f\"Found {len(test_data)} images belonging to {test_data.classes} classes.\")\n",
        "print(\"Val:\")\n",
        "print(f\"Found {len(val_data)} images belonging to {val_data.classes} classes.\")"
      ],
      "metadata": {
        "id": "syYEzDuPO-U5",
        "colab": {
          "base_uri": "https://localhost:8080/"
        },
        "outputId": "5c52ff75-0f39-49f1-fc37-c038e18417a7"
      },
      "execution_count": null,
      "outputs": [
        {
          "output_type": "stream",
          "name": "stdout",
          "text": [
            "Train:\n",
            "Found 212 images belonging to ['nowildfire', 'wildfire'] classes.\n",
            "Test:\n",
            "Found 66 images belonging to ['nowildfire', 'wildfire'] classes.\n",
            "Val:\n",
            "Found 65 images belonging to ['nowildfire', 'wildfire'] classes.\n"
          ]
        }
      ]
    },
    {
      "cell_type": "markdown",
      "source": [
        "### Trying to feed a CNN"
      ],
      "metadata": {
        "id": "Kl59TEFJNvcn"
      }
    },
    {
      "cell_type": "markdown",
      "source": [
        "### Defining Convolutional Block\n",
        "\n",
        "Creating the `ConvBlock` class to properly do: `Conv2d`, `ReLU`, and `MaxPool2d`. For an input of size `3x350x350`."
      ],
      "metadata": {
        "id": "fdJrOPI6QJXb"
      }
    },
    {
      "cell_type": "code",
      "source": [
        "class ConvBlock(nn.Module):\n",
        "\n",
        "    def __init__(\n",
        "              self,\n",
        "              num_inp_channels: int,\n",
        "              num_out_fmaps: int,\n",
        "              kernel_size: int,\n",
        "              pool_size: int=2\n",
        "            ) -> None:\n",
        "\n",
        "        super().__init__()\n",
        "\n",
        "        # In a convolutional neural network (CNN), the bias term in a convolutional layer represents\n",
        "        # the initial offset applied to the output of the convolution operation. When the bias term is set to False,\n",
        "        # it means that the initial offset is not added to the output.\n",
        "        self.conv = nn.Conv2d(in_channels=num_inp_channels,\n",
        "                              out_channels=num_out_fmaps,\n",
        "                              kernel_size=(kernel_size,kernel_size),\n",
        "                              bias=False)\n",
        "        # Setting inplace=True for the ReLU activation function in the ConvBlock class\n",
        "        # can improve performance by reducing memory usage and computational overhead.\n",
        "        # When inplace=True is set, the activation function modifies the input tensor directly\n",
        "        # instead of creating a new tensor. This can significantly improve performance for large inputs,\n",
        "        # as it eliminates the need to allocate and copy memory for the output tensor.\n",
        "        self.relu = nn.ReLU(inplace=True)\n",
        "        # MaxPool2d is recommended for memory saving in CNNs as it reduces the spatial dimensions of the feature maps,\n",
        "        # effectively reducing the number of parameters and computations, thereby minimizing memory consumption\n",
        "        # and enabling the handling of larger input images, deeper architectures, and more efficient training and inference.\n",
        "        self.maxpool = nn.MaxPool2d(kernel_size=(pool_size,pool_size))\n",
        "\n",
        "    def forward(self, x: torch.Tensor) -> torch.Tensor:\n",
        "        return self.maxpool(self.relu(self.conv(x)))"
      ],
      "metadata": {
        "id": "62yzTFXIL9WB"
      },
      "execution_count": null,
      "outputs": []
    },
    {
      "cell_type": "markdown",
      "source": [],
      "metadata": {
        "id": "0vbjsEneaBCq"
      }
    },
    {
      "cell_type": "code",
      "source": [
        "model = ConvBlock(\n",
        "    num_inp_channels=3,\n",
        "    num_out_fmaps=8,\n",
        "    kernel_size=2)\n",
        "\n",
        "# run forward pass\n",
        "x = torch.randn(1, 3, 350, 350)\n",
        "y = model(x)\n",
        "\n",
        "print(f'Input shape: {x.shape}')\n",
        "print(f'ConvBlock output shape: {y.shape}')"
      ],
      "metadata": {
        "colab": {
          "base_uri": "https://localhost:8080/"
        },
        "id": "XIQXHMFGRDxC",
        "outputId": "a5d7313e-f57d-456d-e8ae-11badeb731e9"
      },
      "execution_count": null,
      "outputs": [
        {
          "output_type": "stream",
          "name": "stdout",
          "text": [
            "Input shape: torch.Size([1, 3, 350, 350])\n",
            "ConvBlock output shape: torch.Size([1, 8, 174, 174])\n"
          ]
        }
      ]
    },
    {
      "cell_type": "markdown",
      "source": [
        "### Importing Softmax activation function for the Binary Classification"
      ],
      "metadata": {
        "id": "0OwjyqkYdkmL"
      }
    },
    {
      "cell_type": "code",
      "source": [
        "from torch.nn.modules.activation import Softmax"
      ],
      "metadata": {
        "id": "Ilra4Sk0YYJL"
      },
      "execution_count": null,
      "outputs": []
    },
    {
      "cell_type": "markdown",
      "source": [
        "## CNNBinaryClassifier Net"
      ],
      "metadata": {
        "id": "98LXrQZ9eHEF"
      }
    },
    {
      "cell_type": "code",
      "source": [
        "class CNNBinaryClassifier(nn.Module):\n",
        "\n",
        "    def __init__(self) -> None:\n",
        "        super().__init__()\n",
        "\n",
        "        self.conv1 = ConvBlock(num_inp_channels=3, num_out_fmaps=8, kernel_size=2)\n",
        "        self.conv2 = ConvBlock(num_inp_channels=8, num_out_fmaps=16, kernel_size=2)\n",
        "        self.conv3 = ConvBlock(num_inp_channels=16, num_out_fmaps=32, kernel_size=2)\n",
        "\n",
        "        # Defining the fully connected layers\n",
        "        self.mlp = nn.Sequential(\n",
        "            nn.Dropout(0.4),\n",
        "            nn.Linear(in_features=56448, out_features=2048),\n",
        "            nn.ReLU(),\n",
        "            nn.Dropout(0.5),\n",
        "            nn.Linear(in_features=2048, out_features=300),\n",
        "            nn.ReLU(),\n",
        "            nn.Dropout(0.5),\n",
        "            nn.Linear(in_features=300, out_features=2),\n",
        "            nn.ReLU(),\n",
        "            nn.Softmax(dim=1)\n",
        "        )\n",
        "\n",
        "    def forward(self, x: torch.Tensor) -> torch.Tensor:\n",
        "        x = self.conv1(x)\n",
        "        x = self.conv2(x)\n",
        "        x = self.conv3(x)\n",
        "        bsz, nch, height, width = x.shape\n",
        "        x = torch.reshape(x, (bsz, (nch * height * width)))\n",
        "        # print(x.shape) = torch.Size([1, 56448])\n",
        "        y = self.mlp(x)\n",
        "        return y"
      ],
      "metadata": {
        "id": "GUoo3AeFYT4i"
      },
      "execution_count": null,
      "outputs": []
    },
    {
      "cell_type": "code",
      "source": [
        "model = CNNBinaryClassifier()\n",
        "model.to(device)"
      ],
      "metadata": {
        "colab": {
          "base_uri": "https://localhost:8080/"
        },
        "id": "E2Fv9ZYumHjD",
        "outputId": "17369f2c-0d1b-416d-9649-da82f5044052"
      },
      "execution_count": null,
      "outputs": [
        {
          "output_type": "execute_result",
          "data": {
            "text/plain": [
              "CNNBinaryClassifier(\n",
              "  (conv1): ConvBlock(\n",
              "    (conv): Conv2d(3, 8, kernel_size=(2, 2), stride=(1, 1), bias=False)\n",
              "    (relu): ReLU(inplace=True)\n",
              "    (maxpool): MaxPool2d(kernel_size=(2, 2), stride=(2, 2), padding=0, dilation=1, ceil_mode=False)\n",
              "  )\n",
              "  (conv2): ConvBlock(\n",
              "    (conv): Conv2d(8, 16, kernel_size=(2, 2), stride=(1, 1), bias=False)\n",
              "    (relu): ReLU(inplace=True)\n",
              "    (maxpool): MaxPool2d(kernel_size=(2, 2), stride=(2, 2), padding=0, dilation=1, ceil_mode=False)\n",
              "  )\n",
              "  (conv3): ConvBlock(\n",
              "    (conv): Conv2d(16, 32, kernel_size=(2, 2), stride=(1, 1), bias=False)\n",
              "    (relu): ReLU(inplace=True)\n",
              "    (maxpool): MaxPool2d(kernel_size=(2, 2), stride=(2, 2), padding=0, dilation=1, ceil_mode=False)\n",
              "  )\n",
              "  (mlp): Sequential(\n",
              "    (0): Dropout(p=0.4, inplace=False)\n",
              "    (1): Linear(in_features=56448, out_features=2048, bias=True)\n",
              "    (2): ReLU()\n",
              "    (3): Dropout(p=0.5, inplace=False)\n",
              "    (4): Linear(in_features=2048, out_features=300, bias=True)\n",
              "    (5): ReLU()\n",
              "    (6): Dropout(p=0.5, inplace=False)\n",
              "    (7): Linear(in_features=300, out_features=2, bias=True)\n",
              "    (8): ReLU()\n",
              "    (9): Softmax(dim=1)\n",
              "  )\n",
              ")"
            ]
          },
          "metadata": {},
          "execution_count": 79
        }
      ]
    },
    {
      "cell_type": "code",
      "source": [
        "# Forward a toy example emulating the image size\n",
        "bnet_classifier = CNNBinaryClassifier()\n",
        "y = bnet_classifier(torch.randn(1, 3, 350, 350)).to(device)\n",
        "print(f\"Output shape: {y.shape}\")"
      ],
      "metadata": {
        "colab": {
          "base_uri": "https://localhost:8080/"
        },
        "id": "lslrFVABecHA",
        "outputId": "3d4971e2-038f-4249-f60d-d1c00faaf3bc"
      },
      "execution_count": null,
      "outputs": [
        {
          "output_type": "stream",
          "name": "stdout",
          "text": [
            "Output shape: torch.Size([1, 2])\n"
          ]
        }
      ]
    },
    {
      "cell_type": "markdown",
      "source": [
        "## Now it's time to train and test the model."
      ],
      "metadata": {
        "id": "-k0nfaW4oVhc"
      }
    },
    {
      "cell_type": "markdown",
      "source": [
        "### compute_accuracy"
      ],
      "metadata": {
        "id": "_EOjpDKfptyi"
      }
    },
    {
      "cell_type": "code",
      "source": [
        "def compute_accuracy(predicted_batch: torch.Tensor, label_batch: torch.Tensor) -> float:\n",
        "    \"\"\"\n",
        "    Define the Accuracy metric in the function below by:\n",
        "      (1) obtain the maximum for each predicted element in the batch to get the\n",
        "        class (it is the maximum index of the num_classes array per batch sample)\n",
        "        (look at torch.argmax in the PyTorch documentation)\n",
        "      (2) compare the predicted class index with the index in its corresponding\n",
        "        neighbor within label_batch\n",
        "      (3) sum up the number of affirmative comparisons and return the summation\n",
        "\n",
        "    Parameters:\n",
        "    -----------\n",
        "    predicted_batch: torch.Tensor shape: [BATCH_SIZE, N_CLASSES]\n",
        "        Batch of predictions\n",
        "    label_batch: torch.Tensor shape: [BATCH_SIZE, 1]\n",
        "        Batch of labels / ground truths.\n",
        "    \"\"\"\n",
        "    pred = predicted_batch.argmax(dim=1, keepdim=True) # get the index of the max log-probability\n",
        "    acum = pred.eq(label_batch.view_as(pred)).sum().item()\n",
        "    return acum"
      ],
      "metadata": {
        "id": "ZxXyxeMnoFnh"
      },
      "execution_count": null,
      "outputs": []
    },
    {
      "cell_type": "markdown",
      "source": [
        "### train_epoch"
      ],
      "metadata": {
        "id": "qT9cXA-Op38I"
      }
    },
    {
      "cell_type": "code",
      "source": [
        "def train_epoch(\n",
        "        train_loader: torch.utils.data.DataLoader,\n",
        "        network: torch.nn.Module,\n",
        "        optimizer: torch.optim,\n",
        "        criterion: torch.nn.functional,\n",
        "        log_interval: int,\n",
        "        ) -> Tuple[float, float]:\n",
        "\n",
        "    # Activate the train=True flag inside the model\n",
        "    network.train()\n",
        "\n",
        "    train_loss = []\n",
        "    acc = 0.\n",
        "    avg_weight = 0.1\n",
        "    for batch_idx, (data, target) in enumerate(train_loader):\n",
        "\n",
        "        # Move input data and labels to the device\n",
        "        data, target = data.to(device), target.to(device)\n",
        "\n",
        "        # Set network gradients to 0.\n",
        "        optimizer.zero_grad()\n",
        "\n",
        "        # Forward batch of images through the network\n",
        "        output = network(data)\n",
        "\n",
        "        # Compute loss\n",
        "        loss = criterion(output, target)\n",
        "\n",
        "        # Compute backpropagation\n",
        "        loss.backward()\n",
        "\n",
        "        # Update parameters of the network\n",
        "        optimizer.step()\n",
        "\n",
        "        # Compute metrics\n",
        "        acc += compute_accuracy(output, target)\n",
        "        train_loss.append(loss.item())\n",
        "\n",
        "        if batch_idx % log_interval == 0:\n",
        "            print('Train Epoch: {} [{}/{} ({:.0f}%)]\\tLoss: {:.6f}'.format(\n",
        "                epoch, batch_idx * len(data), len(train_loader.dataset),\n",
        "                100. * batch_idx / len(train_loader), loss.item()))\n",
        "    avg_acc = 100. * acc / len(train_loader.dataset)\n",
        "\n",
        "    return np.mean(train_loss), avg_acc"
      ],
      "metadata": {
        "id": "qnJo4Qu_p3aR"
      },
      "execution_count": null,
      "outputs": []
    },
    {
      "cell_type": "markdown",
      "source": [
        "### test_epoch"
      ],
      "metadata": {
        "id": "9j5c2-KHqZzA"
      }
    },
    {
      "cell_type": "code",
      "source": [
        "@torch.no_grad() # decorator: avoid computing gradients\n",
        "def test_epoch(\n",
        "        test_loader: torch.utils.data.DataLoader,\n",
        "        network: torch.nn.Module,\n",
        "        ) -> Tuple[float, float]:\n",
        "\n",
        "    # Dectivate the train=True flag inside the model\n",
        "    network.eval()\n",
        "\n",
        "    test_loss = []\n",
        "    acc = 0\n",
        "    for data, target in test_loader:\n",
        "        data, target = data.to(device), target.to(device)\n",
        "\n",
        "        output = network(data)\n",
        "\n",
        "        # Apply the loss criterion and accumulate the loss\n",
        "        test_loss.append(criterion(output, target).item())\n",
        "\n",
        "        # compute number of correct predictions in the batch\n",
        "        acc += compute_accuracy(output, target)\n",
        "\n",
        "    # Average accuracy across all correct predictions batches now\n",
        "    test_acc = 100. * acc / len(test_loader.dataset)\n",
        "    test_loss = np.mean(test_loss)\n",
        "    print('\\nTest set: Average loss: {:.4f}, Accuracy: {}/{} ({:.0f}%)\\n'.format(\n",
        "        test_loss, acc, len(test_loader.dataset), test_acc,\n",
        "        ))\n",
        "    return test_loss, test_acc"
      ],
      "metadata": {
        "id": "L7E2LmzOqbi0"
      },
      "execution_count": null,
      "outputs": []
    },
    {
      "cell_type": "code",
      "source": [
        "import time #Añadido"
      ],
      "metadata": {
        "id": "CsrAcrhq1Ivk"
      },
      "execution_count": null,
      "outputs": []
    },
    {
      "cell_type": "code",
      "source": [
        "train_losses = []\n",
        "test_losses = []\n",
        "train_accs = []\n",
        "test_accs = []\n",
        "network = CNNBinaryClassifier()\n",
        "network.to(device)\n",
        "\n",
        "optimizer = torch.optim.Adam(network.parameters(), lr=hparams['learning_rate'], weight_decay=hparams['weight_decay'])\n",
        "criterion = nn.CrossEntropyLoss().to(device)\n",
        "\n",
        "for epoch in range(hparams['num_epochs']):\n",
        "\n",
        "    #Añadido\n",
        "    epoch_times = []\n",
        "    start_time = time.time()\n",
        "\n",
        "    # Compute & save the average training loss for the current epoch\n",
        "    train_loss, train_acc = train_epoch(train_loader, network, optimizer, criterion, hparams[\"log_interval\"])\n",
        "    train_losses.append(train_loss)\n",
        "    train_accs.append(train_acc)\n",
        "\n",
        "    # Compute & save the average test loss & accuracy for the current epoch\n",
        "    test_loss, test_accuracy = test_epoch(test_loader, network)\n",
        "\n",
        "    test_losses.append(test_loss)\n",
        "    test_accs.append(test_accuracy)\n",
        "\n",
        "    #Añadido\n",
        "    end_time = time.time()\n",
        "    epoch_time = end_time - start_time\n",
        "    epoch_times.append(epoch_time)\n",
        "    print(f'Epoch {epoch + 1}/{hparams[\"num_epochs\"]} - Tiempo: {epoch_time:.2f} segundos')\n",
        "\n"
      ],
      "metadata": {
        "colab": {
          "base_uri": "https://localhost:8080/"
        },
        "id": "kjzDDJm-qr6s",
        "outputId": "a87cbdf5-829c-438d-b133-71281243a928"
      },
      "execution_count": null,
      "outputs": [
        {
          "output_type": "stream",
          "name": "stdout",
          "text": [
            "Train Epoch: 0 [0/212 (0%)]\tLoss: 0.694792\n",
            "\n",
            "Test set: Average loss: 0.6902, Accuracy: 32/66 (48%)\n",
            "\n",
            "Epoch 1/10 - Tiempo: 29.86 segundos\n",
            "Train Epoch: 1 [0/212 (0%)]\tLoss: 0.730618\n",
            "\n",
            "Test set: Average loss: 0.6931, Accuracy: 32/66 (48%)\n",
            "\n",
            "Epoch 2/10 - Tiempo: 27.49 segundos\n",
            "Train Epoch: 2 [0/212 (0%)]\tLoss: 0.774836\n",
            "\n",
            "Test set: Average loss: 0.6931, Accuracy: 32/66 (48%)\n",
            "\n",
            "Epoch 3/10 - Tiempo: 26.84 segundos\n",
            "Train Epoch: 3 [0/212 (0%)]\tLoss: 0.693147\n",
            "\n",
            "Test set: Average loss: 0.6931, Accuracy: 32/66 (48%)\n",
            "\n",
            "Epoch 4/10 - Tiempo: 27.39 segundos\n",
            "Train Epoch: 4 [0/212 (0%)]\tLoss: 0.693147\n",
            "\n",
            "Test set: Average loss: 0.6931, Accuracy: 32/66 (48%)\n",
            "\n",
            "Epoch 5/10 - Tiempo: 26.23 segundos\n",
            "Train Epoch: 5 [0/212 (0%)]\tLoss: 0.693147\n",
            "\n",
            "Test set: Average loss: 0.6931, Accuracy: 32/66 (48%)\n",
            "\n",
            "Epoch 6/10 - Tiempo: 27.22 segundos\n",
            "Train Epoch: 6 [0/212 (0%)]\tLoss: 0.693147\n",
            "\n",
            "Test set: Average loss: 0.6931, Accuracy: 32/66 (48%)\n",
            "\n",
            "Epoch 7/10 - Tiempo: 26.98 segundos\n",
            "Train Epoch: 7 [0/212 (0%)]\tLoss: 0.693147\n",
            "\n",
            "Test set: Average loss: 0.6931, Accuracy: 32/66 (48%)\n",
            "\n",
            "Epoch 8/10 - Tiempo: 27.26 segundos\n",
            "Train Epoch: 8 [0/212 (0%)]\tLoss: 0.693147\n",
            "\n",
            "Test set: Average loss: 0.6931, Accuracy: 32/66 (48%)\n",
            "\n",
            "Epoch 9/10 - Tiempo: 29.12 segundos\n",
            "Train Epoch: 9 [0/212 (0%)]\tLoss: 0.693147\n",
            "\n",
            "Test set: Average loss: 0.6931, Accuracy: 32/66 (48%)\n",
            "\n",
            "Epoch 10/10 - Tiempo: 27.93 segundos\n"
          ]
        }
      ]
    },
    {
      "cell_type": "code",
      "source": [
        "plt.figure(figsize=(10, 8))\n",
        "plt.subplot(2,1,1)\n",
        "plt.xlabel('Epoch')\n",
        "plt.ylabel('NLLLoss')\n",
        "plt.plot(train_losses, label='train')\n",
        "plt.plot(test_losses, label='test')\n",
        "plt.legend()\n",
        "plt.subplot(2,1,2)\n",
        "plt.xlabel('Epoch')\n",
        "plt.ylabel('Test Accuracy [%]')\n",
        "plt.plot(train_accs, label='train')\n",
        "plt.plot(test_accs, label='test')\n"
      ],
      "metadata": {
        "colab": {
          "base_uri": "https://localhost:8080/",
          "height": 718
        },
        "id": "wQw5c1ibxqsN",
        "outputId": "edfb5dae-053c-4407-d421-4af21a2f7bc2"
      },
      "execution_count": null,
      "outputs": [
        {
          "output_type": "execute_result",
          "data": {
            "text/plain": [
              "[<matplotlib.lines.Line2D at 0x7c52b423a350>]"
            ]
          },
          "metadata": {},
          "execution_count": 30
        },
        {
          "output_type": "display_data",
          "data": {
            "text/plain": [
              "<Figure size 1000x800 with 2 Axes>"
            ],
            "image/png": "[encoded data removed]"
          },
          "metadata": {}
        }
      ]
    }
  ]
}