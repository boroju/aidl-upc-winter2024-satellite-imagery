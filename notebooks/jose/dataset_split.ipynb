{
  "nbformat": 4,
  "nbformat_minor": 0,
  "metadata": {
    "colab": {
      "provenance": [],
      "authorship_tag": "ABX9TyNT8EU8MVSDecvzji/tvjKz",
      "include_colab_link": true
    },
    "kernelspec": {
      "name": "python3",
      "display_name": "Python 3"
    },
    "language_info": {
      "name": "python"
    }
  },
  "cells": [
    {
      "cell_type": "markdown",
      "metadata": {
        "id": "view-in-github",
        "colab_type": "text"
      },
      "source": [
        "<a href=\"https://colab.research.google.com/github/boroju/aidl-upc-winter2024-satellite-imagery/blob/main/notebooks/jose/dataset_split.ipynb\" target=\"_parent\"><img src=\"https://colab.research.google.com/assets/colab-badge.svg\" alt=\"Open In Colab\"/></a>"
      ]
    },
    {
      "cell_type": "code",
      "execution_count": 1,
      "metadata": {
        "colab": {
          "base_uri": "https://localhost:8080/"
        },
        "id": "mmj65AGSkQNQ",
        "outputId": "371b877e-2b51-4096-913a-7770da5c1658"
      },
      "outputs": [
        {
          "output_type": "stream",
          "name": "stdout",
          "text": [
            "Mounted at /content/drive\n"
          ]
        }
      ],
      "source": [
        "import os\n",
        "import glob\n",
        "import random\n",
        "import numpy as np\n",
        "\n",
        "from google.colab import drive\n",
        "drive.mount('/content/drive')"
      ]
    },
    {
      "cell_type": "code",
      "source": [
        "import shutil\n",
        "import glob\n",
        "import os\n",
        "\n",
        "source_folder = \"/content/drive/My Drive/upc_project_dataset/binary_classification/fire/\"\n",
        "destination_folder = \"/content/drive/My Drive/upc_project_dataset/binary_classification_pre_split/landcovers/\"\n",
        "\n",
        "# Create the destination folder if it doesn't exist\n",
        "if not os.path.exists(destination_folder):\n",
        "    os.makedirs(destination_folder)\n",
        "\n",
        "# Specify the pattern to match files in the source folder\n",
        "pattern = source_folder + \"landcover_*.tif\"\n",
        "\n",
        "# Use glob to get a list of matching files\n",
        "matching_files = glob.glob(pattern)\n",
        "\n",
        "# Iterate over the matching files and copy/rename them to the destination folder\n",
        "for source_file in matching_files:\n",
        "    # Extract the filename without the path\n",
        "    file_name = os.path.basename(source_file)\n",
        "\n",
        "    # Create the new filename for the destination folder\n",
        "    new_file_name = \"fire_\" + file_name\n",
        "\n",
        "    # Construct the full path for the destination file\n",
        "    destination_file = os.path.join(destination_folder, new_file_name)\n",
        "\n",
        "    # Copy and rename the file\n",
        "    shutil.copy2(source_file, destination_file)\n",
        "\n",
        "print(\"Files copied and renamed successfully.\")\n"
      ],
      "metadata": {
        "colab": {
          "base_uri": "https://localhost:8080/"
        },
        "id": "owBZqOCerFUQ",
        "outputId": "53fd4a00-d68f-47b3-b93b-067f0245f9be"
      },
      "execution_count": 26,
      "outputs": [
        {
          "output_type": "stream",
          "name": "stdout",
          "text": [
            "Files copied and renamed successfully.\n"
          ]
        }
      ]
    },
    {
      "cell_type": "code",
      "source": [
        "import shutil\n",
        "import glob\n",
        "import os\n",
        "\n",
        "source_folder = \"/content/drive/My Drive/upc_project_dataset/binary_classification/no_fire/\"\n",
        "destination_folder = \"/content/drive/My Drive/upc_project_dataset/binary_classification_pre_split/landcovers/\"\n",
        "\n",
        "# Create the destination folder if it doesn't exist\n",
        "if not os.path.exists(destination_folder):\n",
        "    os.makedirs(destination_folder)\n",
        "\n",
        "# Specify the pattern to match files in the source folder\n",
        "pattern = source_folder + \"landcover_*.tif\"\n",
        "\n",
        "# Use glob to get a list of matching files\n",
        "matching_files = glob.glob(pattern)\n",
        "\n",
        "# Iterate over the matching files and copy/rename them to the destination folder\n",
        "for source_file in matching_files:\n",
        "    # Extract the filename without the path\n",
        "    file_name = os.path.basename(source_file)\n",
        "\n",
        "    # Create the new filename for the destination folder\n",
        "    new_file_name = \"no_fire_\" + file_name\n",
        "\n",
        "    # Construct the full path for the destination file\n",
        "    destination_file = os.path.join(destination_folder, new_file_name)\n",
        "\n",
        "    # Copy and rename the file\n",
        "    shutil.copy2(source_file, destination_file)\n",
        "\n",
        "print(\"Files copied and renamed successfully.\")\n"
      ],
      "metadata": {
        "colab": {
          "base_uri": "https://localhost:8080/"
        },
        "id": "BJ6p6BWilNuA",
        "outputId": "cbb9b835-b9bf-4111-b7ba-372060bb3449"
      },
      "execution_count": 27,
      "outputs": [
        {
          "output_type": "stream",
          "name": "stdout",
          "text": [
            "Files copied and renamed successfully.\n"
          ]
        }
      ]
    },
    {
      "cell_type": "code",
      "source": [
        "%ls \"{destination_folder}\""
      ],
      "metadata": {
        "colab": {
          "base_uri": "https://localhost:8080/"
        },
        "id": "SQYv6mcnrnkP",
        "outputId": "7fbbdd62-f857-41b8-a9b5-ef3772c01f7f"
      },
      "execution_count": 29,
      "outputs": [
        {
          "output_type": "stream",
          "name": "stdout",
          "text": [
            "fire_landcover_000.tif  fire_landcover_077.tif     no_fire_landcover_057.tif\n",
            "fire_landcover_001.tif  fire_landcover_078.tif     no_fire_landcover_058.tif\n",
            "fire_landcover_002.tif  fire_landcover_079.tif     no_fire_landcover_059.tif\n",
            "fire_landcover_003.tif  fire_landcover_080.tif     no_fire_landcover_060.tif\n",
            "fire_landcover_004.tif  fire_landcover_081.tif     no_fire_landcover_061.tif\n",
            "fire_landcover_005.tif  fire_landcover_082.tif     no_fire_landcover_062.tif\n",
            "fire_landcover_006.tif  fire_landcover_083.tif     no_fire_landcover_063.tif\n",
            "fire_landcover_007.tif  fire_landcover_084.tif     no_fire_landcover_064.tif\n",
            "fire_landcover_008.tif  fire_landcover_085.tif     no_fire_landcover_065.tif\n",
            "fire_landcover_009.tif  fire_landcover_086.tif     no_fire_landcover_066.tif\n",
            "fire_landcover_010.tif  fire_landcover_087.tif     no_fire_landcover_067.tif\n",
            "fire_landcover_011.tif  fire_landcover_088.tif     no_fire_landcover_068.tif\n",
            "fire_landcover_012.tif  fire_landcover_089.tif     no_fire_landcover_069.tif\n",
            "fire_landcover_013.tif  fire_landcover_090.tif     no_fire_landcover_070.tif\n",
            "fire_landcover_014.tif  fire_landcover_091.tif     no_fire_landcover_071.tif\n",
            "fire_landcover_015.tif  fire_landcover_092.tif     no_fire_landcover_072.tif\n",
            "fire_landcover_016.tif  fire_landcover_093.tif     no_fire_landcover_073.tif\n",
            "fire_landcover_017.tif  fire_landcover_094.tif     no_fire_landcover_074.tif\n",
            "fire_landcover_018.tif  fire_landcover_095.tif     no_fire_landcover_075.tif\n",
            "fire_landcover_019.tif  fire_landcover_096.tif     no_fire_landcover_076.tif\n",
            "fire_landcover_020.tif  no_fire_landcover_000.tif  no_fire_landcover_077.tif\n",
            "fire_landcover_021.tif  no_fire_landcover_001.tif  no_fire_landcover_078.tif\n",
            "fire_landcover_022.tif  no_fire_landcover_002.tif  no_fire_landcover_079.tif\n",
            "fire_landcover_023.tif  no_fire_landcover_003.tif  no_fire_landcover_080.tif\n",
            "fire_landcover_024.tif  no_fire_landcover_004.tif  no_fire_landcover_081.tif\n",
            "fire_landcover_025.tif  no_fire_landcover_005.tif  no_fire_landcover_082.tif\n",
            "fire_landcover_026.tif  no_fire_landcover_006.tif  no_fire_landcover_083.tif\n",
            "fire_landcover_027.tif  no_fire_landcover_007.tif  no_fire_landcover_084.tif\n",
            "fire_landcover_028.tif  no_fire_landcover_008.tif  no_fire_landcover_085.tif\n",
            "fire_landcover_029.tif  no_fire_landcover_009.tif  no_fire_landcover_086.tif\n",
            "fire_landcover_030.tif  no_fire_landcover_010.tif  no_fire_landcover_087.tif\n",
            "fire_landcover_031.tif  no_fire_landcover_011.tif  no_fire_landcover_088.tif\n",
            "fire_landcover_032.tif  no_fire_landcover_012.tif  no_fire_landcover_089.tif\n",
            "fire_landcover_033.tif  no_fire_landcover_013.tif  no_fire_landcover_090.tif\n",
            "fire_landcover_034.tif  no_fire_landcover_014.tif  no_fire_landcover_091.tif\n",
            "fire_landcover_035.tif  no_fire_landcover_015.tif  no_fire_landcover_092.tif\n",
            "fire_landcover_036.tif  no_fire_landcover_016.tif  no_fire_landcover_093.tif\n",
            "fire_landcover_037.tif  no_fire_landcover_017.tif  no_fire_landcover_094.tif\n",
            "fire_landcover_038.tif  no_fire_landcover_018.tif  no_fire_landcover_095.tif\n",
            "fire_landcover_039.tif  no_fire_landcover_019.tif  no_fire_landcover_096.tif\n",
            "fire_landcover_040.tif  no_fire_landcover_020.tif  no_fire_landcover_097.tif\n",
            "fire_landcover_041.tif  no_fire_landcover_021.tif  no_fire_landcover_098.tif\n",
            "fire_landcover_042.tif  no_fire_landcover_022.tif  no_fire_landcover_099.tif\n",
            "fire_landcover_043.tif  no_fire_landcover_023.tif  no_fire_landcover_100.tif\n",
            "fire_landcover_044.tif  no_fire_landcover_024.tif  no_fire_landcover_101.tif\n",
            "fire_landcover_045.tif  no_fire_landcover_025.tif  no_fire_landcover_102.tif\n",
            "fire_landcover_046.tif  no_fire_landcover_026.tif  no_fire_landcover_103.tif\n",
            "fire_landcover_047.tif  no_fire_landcover_027.tif  no_fire_landcover_104.tif\n",
            "fire_landcover_048.tif  no_fire_landcover_028.tif  no_fire_landcover_105.tif\n",
            "fire_landcover_049.tif  no_fire_landcover_029.tif  no_fire_landcover_106.tif\n",
            "fire_landcover_050.tif  no_fire_landcover_030.tif  no_fire_landcover_107.tif\n",
            "fire_landcover_051.tif  no_fire_landcover_031.tif  no_fire_landcover_108.tif\n",
            "fire_landcover_052.tif  no_fire_landcover_032.tif  no_fire_landcover_109.tif\n",
            "fire_landcover_053.tif  no_fire_landcover_033.tif  no_fire_landcover_110.tif\n",
            "fire_landcover_054.tif  no_fire_landcover_034.tif  no_fire_landcover_111.tif\n",
            "fire_landcover_055.tif  no_fire_landcover_035.tif  no_fire_landcover_112.tif\n",
            "fire_landcover_056.tif  no_fire_landcover_036.tif  no_fire_landcover_113.tif\n",
            "fire_landcover_057.tif  no_fire_landcover_037.tif  no_fire_landcover_114.tif\n",
            "fire_landcover_058.tif  no_fire_landcover_038.tif  no_fire_landcover_115.tif\n",
            "fire_landcover_059.tif  no_fire_landcover_039.tif  no_fire_landcover_116.tif\n",
            "fire_landcover_060.tif  no_fire_landcover_040.tif  no_fire_landcover_117.tif\n",
            "fire_landcover_061.tif  no_fire_landcover_041.tif  no_fire_landcover_118.tif\n",
            "fire_landcover_062.tif  no_fire_landcover_042.tif  no_fire_landcover_119.tif\n",
            "fire_landcover_063.tif  no_fire_landcover_043.tif  no_fire_landcover_120.tif\n",
            "fire_landcover_064.tif  no_fire_landcover_044.tif  no_fire_landcover_121.tif\n",
            "fire_landcover_065.tif  no_fire_landcover_045.tif  no_fire_landcover_122.tif\n",
            "fire_landcover_066.tif  no_fire_landcover_046.tif  no_fire_landcover_123.tif\n",
            "fire_landcover_067.tif  no_fire_landcover_047.tif  no_fire_landcover_124.tif\n",
            "fire_landcover_068.tif  no_fire_landcover_048.tif  no_fire_landcover_125.tif\n",
            "fire_landcover_069.tif  no_fire_landcover_049.tif  no_fire_landcover_126.tif\n",
            "fire_landcover_070.tif  no_fire_landcover_050.tif  no_fire_landcover_127.tif\n",
            "fire_landcover_071.tif  no_fire_landcover_051.tif  no_fire_landcover_128.tif\n",
            "fire_landcover_072.tif  no_fire_landcover_052.tif  no_fire_landcover_129.tif\n",
            "fire_landcover_073.tif  no_fire_landcover_053.tif  no_fire_landcover_130.tif\n",
            "fire_landcover_074.tif  no_fire_landcover_054.tif  no_fire_landcover_131.tif\n",
            "fire_landcover_075.tif  no_fire_landcover_055.tif  no_fire_landcover_132.tif\n",
            "fire_landcover_076.tif  no_fire_landcover_056.tif  no_fire_landcover_133.tif\n"
          ]
        }
      ]
    },
    {
      "cell_type": "code",
      "source": [
        "import shutil\n",
        "import glob\n",
        "import os\n",
        "\n",
        "source_folder = \"/content/drive/My Drive/upc_project_dataset/binary_classification/fire_mask/\"\n",
        "destination_folder = \"/content/drive/My Drive/upc_project_dataset/binary_classification_pre_split/masks/\"\n",
        "\n",
        "# Create the destination folder if it doesn't exist\n",
        "if not os.path.exists(destination_folder):\n",
        "    os.makedirs(destination_folder)\n",
        "\n",
        "# Specify the pattern to match files in the source folder\n",
        "pattern = source_folder + \"fire_mask_*.tif\"\n",
        "\n",
        "# Use glob to get a list of matching files\n",
        "matching_files = glob.glob(pattern)\n",
        "\n",
        "# Iterate over the matching files and copy/rename them to the destination folder\n",
        "for source_file in matching_files:\n",
        "    # Extract the filename without the path\n",
        "    file_name = os.path.basename(source_file)\n",
        "\n",
        "    # Construct the full path for the destination file\n",
        "    destination_file = os.path.join(destination_folder, file_name)\n",
        "\n",
        "    # Copy and rename the file\n",
        "    shutil.copy2(source_file, destination_file)\n",
        "\n",
        "print(\"Files copied and renamed successfully.\")\n"
      ],
      "metadata": {
        "colab": {
          "base_uri": "https://localhost:8080/"
        },
        "id": "HJEHXn-Ir2ER",
        "outputId": "7e780080-0201-42c9-b09a-298055e9c188"
      },
      "execution_count": 31,
      "outputs": [
        {
          "output_type": "stream",
          "name": "stdout",
          "text": [
            "Files copied and renamed successfully.\n"
          ]
        }
      ]
    },
    {
      "cell_type": "code",
      "source": [
        "import shutil\n",
        "import glob\n",
        "import os\n",
        "\n",
        "source_folder = \"/content/drive/My Drive/upc_project_dataset/binary_classification/no_fire_mask/\"\n",
        "destination_folder = \"/content/drive/My Drive/upc_project_dataset/binary_classification_pre_split/masks/\"\n",
        "\n",
        "# Create the destination folder if it doesn't exist\n",
        "if not os.path.exists(destination_folder):\n",
        "    os.makedirs(destination_folder)\n",
        "\n",
        "# Specify the pattern to match files in the source folder\n",
        "pattern = source_folder + \"no_fire_mask_*.tif\"\n",
        "\n",
        "# Use glob to get a list of matching files\n",
        "matching_files = glob.glob(pattern)\n",
        "\n",
        "# Iterate over the matching files and copy/rename them to the destination folder\n",
        "for source_file in matching_files:\n",
        "    # Extract the filename without the path\n",
        "    file_name = os.path.basename(source_file)\n",
        "\n",
        "    # Construct the full path for the destination file\n",
        "    destination_file = os.path.join(destination_folder, file_name)\n",
        "\n",
        "    # Copy and rename the file\n",
        "    shutil.copy2(source_file, destination_file)\n",
        "\n",
        "print(\"Files copied and renamed successfully.\")\n"
      ],
      "metadata": {
        "colab": {
          "base_uri": "https://localhost:8080/"
        },
        "id": "L8Mk28mor2Cr",
        "outputId": "b92a20bb-4936-4e2a-aa46-7b970b41332c"
      },
      "execution_count": 34,
      "outputs": [
        {
          "output_type": "stream",
          "name": "stdout",
          "text": [
            "Files copied and renamed successfully.\n"
          ]
        }
      ]
    },
    {
      "cell_type": "code",
      "source": [
        "%ls \"{destination_folder}\""
      ],
      "metadata": {
        "colab": {
          "base_uri": "https://localhost:8080/"
        },
        "id": "7SMEIP1-r1-l",
        "outputId": "e16f0f00-07e7-40d6-eb20-0b1f391591f1"
      },
      "execution_count": 35,
      "outputs": [
        {
          "output_type": "stream",
          "name": "stdout",
          "text": [
            "fire_mask_000.tif  fire_mask_058.tif     no_fire_mask_019.tif  no_fire_mask_077.tif\n",
            "fire_mask_001.tif  fire_mask_059.tif     no_fire_mask_020.tif  no_fire_mask_078.tif\n",
            "fire_mask_002.tif  fire_mask_060.tif     no_fire_mask_021.tif  no_fire_mask_079.tif\n",
            "fire_mask_003.tif  fire_mask_061.tif     no_fire_mask_022.tif  no_fire_mask_080.tif\n",
            "fire_mask_004.tif  fire_mask_062.tif     no_fire_mask_023.tif  no_fire_mask_081.tif\n",
            "fire_mask_005.tif  fire_mask_063.tif     no_fire_mask_024.tif  no_fire_mask_082.tif\n",
            "fire_mask_006.tif  fire_mask_064.tif     no_fire_mask_025.tif  no_fire_mask_083.tif\n",
            "fire_mask_007.tif  fire_mask_065.tif     no_fire_mask_026.tif  no_fire_mask_084.tif\n",
            "fire_mask_008.tif  fire_mask_066.tif     no_fire_mask_027.tif  no_fire_mask_085.tif\n",
            "fire_mask_009.tif  fire_mask_067.tif     no_fire_mask_028.tif  no_fire_mask_086.tif\n",
            "fire_mask_010.tif  fire_mask_068.tif     no_fire_mask_029.tif  no_fire_mask_087.tif\n",
            "fire_mask_011.tif  fire_mask_069.tif     no_fire_mask_030.tif  no_fire_mask_088.tif\n",
            "fire_mask_012.tif  fire_mask_070.tif     no_fire_mask_031.tif  no_fire_mask_089.tif\n",
            "fire_mask_013.tif  fire_mask_071.tif     no_fire_mask_032.tif  no_fire_mask_090.tif\n",
            "fire_mask_014.tif  fire_mask_072.tif     no_fire_mask_033.tif  no_fire_mask_091.tif\n",
            "fire_mask_015.tif  fire_mask_073.tif     no_fire_mask_034.tif  no_fire_mask_092.tif\n",
            "fire_mask_016.tif  fire_mask_074.tif     no_fire_mask_035.tif  no_fire_mask_093.tif\n",
            "fire_mask_017.tif  fire_mask_075.tif     no_fire_mask_036.tif  no_fire_mask_094.tif\n",
            "fire_mask_018.tif  fire_mask_076.tif     no_fire_mask_037.tif  no_fire_mask_095.tif\n",
            "fire_mask_019.tif  fire_mask_077.tif     no_fire_mask_038.tif  no_fire_mask_096.tif\n",
            "fire_mask_020.tif  fire_mask_078.tif     no_fire_mask_039.tif  no_fire_mask_097.tif\n",
            "fire_mask_021.tif  fire_mask_079.tif     no_fire_mask_040.tif  no_fire_mask_098.tif\n",
            "fire_mask_022.tif  fire_mask_080.tif     no_fire_mask_041.tif  no_fire_mask_099.tif\n",
            "fire_mask_023.tif  fire_mask_081.tif     no_fire_mask_042.tif  no_fire_mask_100.tif\n",
            "fire_mask_024.tif  fire_mask_082.tif     no_fire_mask_043.tif  no_fire_mask_101.tif\n",
            "fire_mask_025.tif  fire_mask_083.tif     no_fire_mask_044.tif  no_fire_mask_102.tif\n",
            "fire_mask_026.tif  fire_mask_084.tif     no_fire_mask_045.tif  no_fire_mask_103.tif\n",
            "fire_mask_027.tif  fire_mask_085.tif     no_fire_mask_046.tif  no_fire_mask_104.tif\n",
            "fire_mask_028.tif  fire_mask_086.tif     no_fire_mask_047.tif  no_fire_mask_105.tif\n",
            "fire_mask_029.tif  fire_mask_087.tif     no_fire_mask_048.tif  no_fire_mask_106.tif\n",
            "fire_mask_030.tif  fire_mask_088.tif     no_fire_mask_049.tif  no_fire_mask_107.tif\n",
            "fire_mask_031.tif  fire_mask_089.tif     no_fire_mask_050.tif  no_fire_mask_108.tif\n",
            "fire_mask_032.tif  fire_mask_090.tif     no_fire_mask_051.tif  no_fire_mask_109.tif\n",
            "fire_mask_033.tif  fire_mask_091.tif     no_fire_mask_052.tif  no_fire_mask_110.tif\n",
            "fire_mask_034.tif  fire_mask_092.tif     no_fire_mask_053.tif  no_fire_mask_111.tif\n",
            "fire_mask_035.tif  fire_mask_093.tif     no_fire_mask_054.tif  no_fire_mask_112.tif\n",
            "fire_mask_036.tif  fire_mask_094.tif     no_fire_mask_055.tif  no_fire_mask_113.tif\n",
            "fire_mask_037.tif  fire_mask_095.tif     no_fire_mask_056.tif  no_fire_mask_114.tif\n",
            "fire_mask_038.tif  fire_mask_096.tif     no_fire_mask_057.tif  no_fire_mask_115.tif\n",
            "fire_mask_039.tif  no_fire_mask_000.tif  no_fire_mask_058.tif  no_fire_mask_116.tif\n",
            "fire_mask_040.tif  no_fire_mask_001.tif  no_fire_mask_059.tif  no_fire_mask_117.tif\n",
            "fire_mask_041.tif  no_fire_mask_002.tif  no_fire_mask_060.tif  no_fire_mask_118.tif\n",
            "fire_mask_042.tif  no_fire_mask_003.tif  no_fire_mask_061.tif  no_fire_mask_119.tif\n",
            "fire_mask_043.tif  no_fire_mask_004.tif  no_fire_mask_062.tif  no_fire_mask_120.tif\n",
            "fire_mask_044.tif  no_fire_mask_005.tif  no_fire_mask_063.tif  no_fire_mask_121.tif\n",
            "fire_mask_045.tif  no_fire_mask_006.tif  no_fire_mask_064.tif  no_fire_mask_122.tif\n",
            "fire_mask_046.tif  no_fire_mask_007.tif  no_fire_mask_065.tif  no_fire_mask_123.tif\n",
            "fire_mask_047.tif  no_fire_mask_008.tif  no_fire_mask_066.tif  no_fire_mask_124.tif\n",
            "fire_mask_048.tif  no_fire_mask_009.tif  no_fire_mask_067.tif  no_fire_mask_125.tif\n",
            "fire_mask_049.tif  no_fire_mask_010.tif  no_fire_mask_068.tif  no_fire_mask_126.tif\n",
            "fire_mask_050.tif  no_fire_mask_011.tif  no_fire_mask_069.tif  no_fire_mask_127.tif\n",
            "fire_mask_051.tif  no_fire_mask_012.tif  no_fire_mask_070.tif  no_fire_mask_128.tif\n",
            "fire_mask_052.tif  no_fire_mask_013.tif  no_fire_mask_071.tif  no_fire_mask_129.tif\n",
            "fire_mask_053.tif  no_fire_mask_014.tif  no_fire_mask_072.tif  no_fire_mask_130.tif\n",
            "fire_mask_054.tif  no_fire_mask_015.tif  no_fire_mask_073.tif  no_fire_mask_131.tif\n",
            "fire_mask_055.tif  no_fire_mask_016.tif  no_fire_mask_074.tif  no_fire_mask_132.tif\n",
            "fire_mask_056.tif  no_fire_mask_017.tif  no_fire_mask_075.tif  no_fire_mask_133.tif\n",
            "fire_mask_057.tif  no_fire_mask_018.tif  no_fire_mask_076.tif\n"
          ]
        }
      ]
    },
    {
      "cell_type": "code",
      "source": [
        "import os\n",
        "import shutil\n",
        "from sklearn.model_selection import train_test_split\n",
        "\n",
        "# Source folders\n",
        "source_folder = \"/content/drive/My Drive/upc_project_dataset/binary_classification_pre_split/landcovers/\"\n",
        "mask_folder = \"/content/drive/My Drive/upc_project_dataset/binary_classification_pre_split/masks/\"\n",
        "\n",
        "# Destination folders\n",
        "train_folder = \"/content/drive/My Drive/upc_project_dataset/binary_classification_split/train_landcovers/\"\n",
        "test_folder = \"/content/drive/My Drive/upc_project_dataset/binary_classification_split/test_landcovers/\"\n",
        "valid_folder = \"/content/drive/My Drive/upc_project_dataset/binary_classification_split/valid_landcovers/\"\n",
        "\n",
        "train_mask_folder = \"/content/drive/My Drive/upc_project_dataset/binary_classification_split/train_masks/\"\n",
        "test_mask_folder = \"/content/drive/My Drive/upc_project_dataset/binary_classification_split/test_masks/\"\n",
        "valid_mask_folder = \"/content/drive/My Drive/upc_project_dataset/binary_classification_split/valid_masks/\"\n",
        "\n",
        "# Create destination folders if they don't exist\n",
        "for folder in [train_folder, test_folder, valid_folder, train_mask_folder, test_mask_folder, valid_mask_folder]:\n",
        "    if not os.path.exists(folder):\n",
        "        os.makedirs(folder)\n",
        "\n",
        "# Get all landcover files and their corresponding masks\n",
        "landcover_files = sorted(glob.glob(os.path.join(source_folder, \"*_landcover_*.tif\")))\n",
        "mask_files = sorted(glob.glob(os.path.join(mask_folder, \"*_mask_*.tif\")))\n",
        "\n",
        "# Split the data into train, test, and validation sets\n",
        "landcover_train, landcover_temp, mask_train, mask_temp = train_test_split(landcover_files, mask_files, test_size=0.3, random_state=42)\n",
        "landcover_test, landcover_valid, mask_test, mask_valid = train_test_split(landcover_temp, mask_temp, test_size=0.3, random_state=42)\n",
        "\n",
        "\n"
      ],
      "metadata": {
        "id": "2U-2XWV7r16Z"
      },
      "execution_count": 45,
      "outputs": []
    },
    {
      "cell_type": "code",
      "source": [
        "print(landcover_train[:2])\n",
        "print(landcover_temp[:2])\n",
        "print(mask_train[:2])\n",
        "print(mask_temp[:2])"
      ],
      "metadata": {
        "colab": {
          "base_uri": "https://localhost:8080/"
        },
        "id": "1Vxuj1MPzeY-",
        "outputId": "701d662e-03f0-495b-d18b-0c84622243a2"
      },
      "execution_count": 46,
      "outputs": [
        {
          "output_type": "stream",
          "name": "stdout",
          "text": [
            "['/content/drive/My Drive/upc_project_dataset/binary_classification_pre_split/landcovers/fire_landcover_056.tif', '/content/drive/My Drive/upc_project_dataset/binary_classification_pre_split/landcovers/no_fire_landcover_017.tif']\n",
            "['/content/drive/My Drive/upc_project_dataset/binary_classification_pre_split/landcovers/no_fire_landcover_121.tif', '/content/drive/My Drive/upc_project_dataset/binary_classification_pre_split/landcovers/fire_landcover_066.tif']\n",
            "['/content/drive/My Drive/upc_project_dataset/binary_classification_pre_split/masks/fire_mask_056.tif', '/content/drive/My Drive/upc_project_dataset/binary_classification_pre_split/masks/no_fire_mask_017.tif']\n",
            "['/content/drive/My Drive/upc_project_dataset/binary_classification_pre_split/masks/no_fire_mask_121.tif', '/content/drive/My Drive/upc_project_dataset/binary_classification_pre_split/masks/fire_mask_066.tif']\n"
          ]
        }
      ]
    },
    {
      "cell_type": "code",
      "source": [
        "print(landcover_test[:2])\n",
        "print(landcover_valid[:2])\n",
        "print(mask_test[:2])\n",
        "print(mask_valid[:2])"
      ],
      "metadata": {
        "colab": {
          "base_uri": "https://localhost:8080/"
        },
        "id": "hsw6ryPGzzre",
        "outputId": "847a1812-8bb5-4aa7-f7cb-42b2d005b08f"
      },
      "execution_count": 47,
      "outputs": [
        {
          "output_type": "stream",
          "name": "stdout",
          "text": [
            "['/content/drive/My Drive/upc_project_dataset/binary_classification_pre_split/landcovers/fire_landcover_016.tif', '/content/drive/My Drive/upc_project_dataset/binary_classification_pre_split/landcovers/no_fire_landcover_046.tif']\n",
            "['/content/drive/My Drive/upc_project_dataset/binary_classification_pre_split/landcovers/no_fire_landcover_108.tif', '/content/drive/My Drive/upc_project_dataset/binary_classification_pre_split/landcovers/no_fire_landcover_121.tif']\n",
            "['/content/drive/My Drive/upc_project_dataset/binary_classification_pre_split/masks/fire_mask_016.tif', '/content/drive/My Drive/upc_project_dataset/binary_classification_pre_split/masks/no_fire_mask_046.tif']\n",
            "['/content/drive/My Drive/upc_project_dataset/binary_classification_pre_split/masks/no_fire_mask_108.tif', '/content/drive/My Drive/upc_project_dataset/binary_classification_pre_split/masks/no_fire_mask_121.tif']\n"
          ]
        }
      ]
    },
    {
      "cell_type": "code",
      "source": [
        "# Move files to their respective folders\n",
        "def move_files(files, destination_folder):\n",
        "    for file in files:\n",
        "        file_name = os.path.basename(file)\n",
        "        destination_file = os.path.join(destination_folder, file_name)\n",
        "        shutil.copy2(file, destination_file)\n",
        "\n",
        "move_files(landcover_train, train_folder)\n",
        "move_files(landcover_test, test_folder)\n",
        "move_files(landcover_valid, valid_folder)\n",
        "move_files(mask_train, train_mask_folder)\n",
        "move_files(mask_test, test_mask_folder)\n",
        "move_files(mask_valid, valid_mask_folder)\n",
        "\n",
        "print(\"Data split and moved successfully.\")"
      ],
      "metadata": {
        "colab": {
          "base_uri": "https://localhost:8080/"
        },
        "id": "614Fy9Swr10K",
        "outputId": "a0bcd6e2-2f8f-4a5e-9a26-beb143b89226"
      },
      "execution_count": 48,
      "outputs": [
        {
          "output_type": "stream",
          "name": "stdout",
          "text": [
            "Data split and moved successfully.\n"
          ]
        }
      ]
    },
    {
      "cell_type": "code",
      "source": [
        "import os\n",
        "\n",
        "def count_files(folder):\n",
        "    return len([f for f in os.listdir(folder) if os.path.isfile(os.path.join(folder, f))])\n",
        "\n",
        "\n",
        "# Count the number of files in each folder\n",
        "train_count = count_files(train_folder)\n",
        "test_count = count_files(test_folder)\n",
        "valid_count = count_files(valid_folder)\n",
        "\n",
        "train_mask_count = count_files(train_mask_folder)\n",
        "test_mask_count = count_files(test_mask_folder)\n",
        "valid_mask_count = count_files(valid_mask_folder)\n",
        "\n",
        "print(f\"Number of files in train folder: {train_count}\")\n",
        "print(f\"Number of files in test folder: {test_count}\")\n",
        "print(f\"Number of files in validation folder: {valid_count}\")\n",
        "\n",
        "print(f\"Number of mask files in train folder: {train_mask_count}\")\n",
        "print(f\"Number of mask files in test folder: {test_mask_count}\")\n",
        "print(f\"Number of mask files in validation folder: {valid_mask_count}\")\n"
      ],
      "metadata": {
        "colab": {
          "base_uri": "https://localhost:8080/"
        },
        "id": "DTwxE_hr0d1Z",
        "outputId": "3c3ce37d-f53d-40fc-b97f-fffe7693c061"
      },
      "execution_count": 49,
      "outputs": [
        {
          "output_type": "stream",
          "name": "stdout",
          "text": [
            "Number of files in train folder: 161\n",
            "Number of files in test folder: 49\n",
            "Number of files in validation folder: 21\n",
            "Number of mask files in train folder: 161\n",
            "Number of mask files in test folder: 49\n",
            "Number of mask files in validation folder: 21\n"
          ]
        }
      ]
    },
    {
      "cell_type": "code",
      "source": [
        "import shutil\n",
        "\n",
        "# Source folder to be zipped\n",
        "source_folder = \"/content/drive/My Drive/upc_project_dataset/binary_classification_split\"\n",
        "\n",
        "# Destination zip file\n",
        "zip_file_path = \"/content/drive/My Drive/upc_project_dataset/binary_classification_split.zip\"\n",
        "\n",
        "# Create a zip file containing all contents of the source folder\n",
        "shutil.make_archive(zip_file_path, 'zip', source_folder)\n",
        "\n",
        "print(f\"Contents of {source_folder} successfully zipped to {zip_file_path}.\")\n"
      ],
      "metadata": {
        "colab": {
          "base_uri": "https://localhost:8080/"
        },
        "id": "Ue2b6r9K2FRs",
        "outputId": "cacd5b3b-ffd0-479d-b3d8-256c1daafbce"
      },
      "execution_count": 50,
      "outputs": [
        {
          "output_type": "stream",
          "name": "stdout",
          "text": [
            "Contents of /content/drive/My Drive/upc_project_dataset/binary_classification_split successfully zipped to /content/drive/My Drive/upc_project_dataset/binary_classification_split.zip.\n"
          ]
        }
      ]
    }
  ]
}